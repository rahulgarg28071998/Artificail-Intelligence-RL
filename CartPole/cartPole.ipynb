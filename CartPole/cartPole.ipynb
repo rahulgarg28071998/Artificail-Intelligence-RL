{
 "cells": [
  {
   "cell_type": "code",
   "execution_count": 45,
   "metadata": {},
   "outputs": [
    {
     "name": "stdout",
     "output_type": "stream",
     "text": [
      "Step 0:\n",
      "action: 0\n",
      "observation: [-0.00191059 -0.16546262  0.00939264  0.32624757]\n",
      "reward: 1.0\n",
      "done: False\n",
      "info: {}\n",
      "Step 1:\n",
      "action: 1\n",
      "observation: [-0.00521984  0.02952435  0.01591759  0.03654141]\n",
      "reward: 1.0\n",
      "done: False\n",
      "info: {}\n",
      "Step 2:\n",
      "action: 0\n",
      "observation: [-0.00462935 -0.1658222   0.01664842  0.33420369]\n",
      "reward: 1.0\n",
      "done: False\n",
      "info: {}\n",
      "Step 3:\n",
      "action: 1\n",
      "observation: [-0.0079458   0.02905889  0.02333249  0.04681697]\n",
      "reward: 1.0\n",
      "done: False\n",
      "info: {}\n"
     ]
    }
   ],
   "source": [
    "import gym\n",
    "env = gym.make('CartPole-v1')\n",
    "env.reset()\n",
    "for step_index in range(4):\n",
    "    env.render()\n",
    "    action = env.action_space.sample()\n",
    "    observation, reward, done, info = env.step(action)\n",
    "    print(\"Step {}:\".format(step_index))\n",
    "    print(\"action: {}\".format(action))\n",
    "    print(\"observation: {}\".format(observation))\n",
    "    print(\"reward: {}\".format(reward))\n",
    "    print(\"done: {}\".format(done))\n",
    "    print(\"info: {}\".format(info))\n",
    "    if done:\n",
    "        break\n"
   ]
  },
  {
   "cell_type": "code",
   "execution_count": 46,
   "metadata": {},
   "outputs": [],
   "source": [
    "env.close()"
   ]
  },
  {
   "cell_type": "markdown",
   "metadata": {},
   "source": [
    "## logic starts here :"
   ]
  },
  {
   "cell_type": "code",
   "execution_count": 1,
   "metadata": {},
   "outputs": [
    {
     "name": "stderr",
     "output_type": "stream",
     "text": [
      "Using TensorFlow backend.\n"
     ]
    }
   ],
   "source": [
    "import gym\n",
    "import random\n",
    "import numpy as np\n",
    "from keras.models     import Sequential\n",
    "from keras.layers     import Dense\n",
    "from keras.optimizers import Adam\n",
    "import matplotlib.pyplot as plt"
   ]
  },
  {
   "cell_type": "code",
   "execution_count": 33,
   "metadata": {},
   "outputs": [],
   "source": [
    "from tensorflow.keras.callbacks import TensorBoard\n",
    "from time import time\n",
    "tensor = TensorBoard(log_dir=\"logs/final/{}\".format(time()))"
   ]
  },
  {
   "cell_type": "code",
   "execution_count": 3,
   "metadata": {},
   "outputs": [],
   "source": [
    "env = gym.make('CartPole-v1')\n",
    "env.reset()\n",
    "goal_steps = 500\n",
    "score_requirement = 60\n",
    "intial_games = 10000"
   ]
  },
  {
   "cell_type": "code",
   "execution_count": 4,
   "metadata": {},
   "outputs": [],
   "source": [
    "def model_data_preparation():\n",
    "    training_data = []\n",
    "    accepted_scores = []\n",
    "    for game_index in range(intial_games):\n",
    "        score = 0\n",
    "        game_memory = []\n",
    "        previous_observation = []\n",
    "        for step_index in range(goal_steps):\n",
    "            action = random.randrange(0, 2)\n",
    "            observation, reward, done, info = env.step(action)\n",
    "            \n",
    "            if len(previous_observation) > 0:\n",
    "                game_memory.append([previous_observation, action])\n",
    "                \n",
    "            previous_observation = observation\n",
    "            score += reward\n",
    "            if done:\n",
    "                break\n",
    "            \n",
    "        if score >= score_requirement:\n",
    "            accepted_scores.append(score)\n",
    "            for data in game_memory:\n",
    "                if data[1] == 1:\n",
    "                    output = [0, 1]\n",
    "                elif data[1] == 0:\n",
    "                    output = [1, 0]\n",
    "                training_data.append([data[0], output])\n",
    "        \n",
    "        env.reset()\n",
    "\n",
    "    print(accepted_scores)\n",
    "    \n",
    "    return training_data"
   ]
  },
  {
   "cell_type": "code",
   "execution_count": 5,
   "metadata": {},
   "outputs": [
    {
     "name": "stdout",
     "output_type": "stream",
     "text": [
      "[76.0, 63.0, 71.0, 71.0, 66.0, 62.0, 68.0, 63.0, 67.0, 68.0, 68.0, 73.0, 81.0, 81.0, 60.0, 61.0, 61.0, 61.0, 77.0, 66.0, 66.0, 61.0, 62.0, 62.0, 86.0, 60.0, 88.0, 84.0, 66.0, 67.0, 94.0, 66.0, 63.0, 66.0, 76.0, 83.0, 79.0, 90.0, 63.0, 85.0, 75.0, 83.0, 60.0, 74.0, 63.0, 66.0, 75.0, 71.0, 92.0, 85.0, 60.0, 75.0, 60.0, 60.0, 61.0, 109.0, 67.0, 86.0, 71.0, 62.0, 62.0, 75.0, 89.0, 60.0, 64.0, 72.0, 63.0, 62.0, 61.0, 88.0, 61.0, 60.0, 67.0, 78.0, 75.0, 76.0, 80.0, 65.0, 60.0, 84.0, 123.0, 60.0, 81.0, 81.0, 78.0, 66.0, 76.0, 66.0, 70.0, 61.0, 66.0, 68.0, 68.0, 66.0, 64.0, 78.0, 77.0, 68.0, 60.0, 60.0, 66.0, 62.0, 65.0, 101.0, 77.0, 60.0, 60.0, 73.0, 82.0, 72.0, 84.0, 64.0, 91.0, 102.0, 60.0, 72.0, 68.0, 80.0, 90.0, 72.0, 69.0, 92.0, 65.0, 61.0, 78.0, 63.0, 124.0, 76.0, 73.0, 88.0, 65.0, 62.0, 62.0, 69.0, 75.0, 61.0, 85.0, 61.0, 62.0, 85.0, 77.0, 77.0, 69.0, 86.0, 69.0, 62.0, 94.0, 68.0, 60.0, 69.0, 82.0, 61.0, 61.0, 60.0]\n"
     ]
    }
   ],
   "source": [
    "training_data = model_data_preparation()"
   ]
  },
  {
   "cell_type": "code",
   "execution_count": 6,
   "metadata": {},
   "outputs": [],
   "source": [
    "def build_model(input_size, output_size):\n",
    "    model = Sequential()\n",
    "    model.add(Dense(128, input_dim=input_size, activation='relu'))\n",
    "    model.add(Dense(52, activation='relu'))\n",
    "    model.add(Dense(output_size, activation='linear'))\n",
    "    model.compile(loss='mse', optimizer=Adam(), metrics=['accuracy'])\n",
    "    return model"
   ]
  },
  {
   "cell_type": "code",
   "execution_count": 34,
   "metadata": {},
   "outputs": [],
   "source": [
    "def train_model(training_data):\n",
    "    X = np.array([i[0] for i in training_data]).reshape(-1, len(training_data[0][0]))\n",
    "    y = np.array([i[1] for i in training_data]).reshape(-1, len(training_data[0][1]))\n",
    "    model = build_model(input_size=len(X[0]), output_size=len(y[0]))\n",
    "    \n",
    "    hist = model.fit(X, y,epochs=10, \n",
    "                  shuffle=True,  \n",
    "                 # batch_size=32,\n",
    "                  validation_split=0.20,\n",
    "                    callbacks=[tensor])\n",
    "    return hist, model"
   ]
  },
  {
   "cell_type": "code",
   "execution_count": 37,
   "metadata": {},
   "outputs": [
    {
     "name": "stdout",
     "output_type": "stream",
     "text": [
      "Train on 8754 samples, validate on 2189 samples\n",
      "Epoch 1/10\n",
      "8754/8754 [==============================] - 1s 99us/step - loss: 0.2482 - acc: 0.6028 - val_loss: 0.2363 - val_acc: 0.6039\n",
      "Epoch 2/10\n",
      "8754/8754 [==============================] - 0s 40us/step - loss: 0.2348 - acc: 0.6105 - val_loss: 0.2354 - val_acc: 0.6080\n",
      "Epoch 3/10\n",
      "8754/8754 [==============================] - 0s 45us/step - loss: 0.2343 - acc: 0.6065 - val_loss: 0.2338 - val_acc: 0.6080\n",
      "Epoch 4/10\n",
      "8754/8754 [==============================] - 0s 44us/step - loss: 0.2337 - acc: 0.6113 - val_loss: 0.2339 - val_acc: 0.6094\n",
      "Epoch 5/10\n",
      "8754/8754 [==============================] - 0s 48us/step - loss: 0.2329 - acc: 0.6091 - val_loss: 0.2329 - val_acc: 0.6085\n",
      "Epoch 6/10\n",
      "8754/8754 [==============================] - 0s 55us/step - loss: 0.2325 - acc: 0.6111 - val_loss: 0.2353 - val_acc: 0.6039\n",
      "Epoch 7/10\n",
      "8754/8754 [==============================] - 0s 56us/step - loss: 0.2321 - acc: 0.6129 - val_loss: 0.2334 - val_acc: 0.6131\n",
      "Epoch 8/10\n",
      "8754/8754 [==============================] - 0s 54us/step - loss: 0.2322 - acc: 0.6098 - val_loss: 0.2355 - val_acc: 0.6144\n",
      "Epoch 9/10\n",
      "8754/8754 [==============================] - 0s 40us/step - loss: 0.2318 - acc: 0.6094 - val_loss: 0.2340 - val_acc: 0.6153\n",
      "Epoch 10/10\n",
      "8754/8754 [==============================] - 0s 54us/step - loss: 0.2320 - acc: 0.6123 - val_loss: 0.2331 - val_acc: 0.6067\n"
     ]
    }
   ],
   "source": [
    "history ,trained_model= train_model(training_data)"
   ]
  },
  {
   "cell_type": "code",
   "execution_count": 24,
   "metadata": {
    "scrolled": true
   },
   "outputs": [
    {
     "name": "stdout",
     "output_type": "stream",
     "text": [
      "[232.0, 144.0, 195.0, 300.0, 407.0, 333.0, 135.0, 279.0, 142.0, 136.0]\n",
      "Average Score: 230.3\n",
      "choice 1:0.5054277029960921  choice 0:0.4945722970039079\n"
     ]
    }
   ],
   "source": [
    "scores = []\n",
    "choices = []\n",
    "for each_game in range(10):\n",
    "    score = 0\n",
    "    prev_obs = []\n",
    "    for step_index in range(goal_steps):\n",
    "        env.render()\n",
    "        if len(prev_obs)==0:\n",
    "            action = random.randrange(0,2)\n",
    "        else:\n",
    "            action = np.argmax(trained_model.predict(prev_obs.reshape(-1, len(prev_obs)))[0])\n",
    "        \n",
    "        choices.append(action)\n",
    "        new_observation, reward, done, info = env.step(action)\n",
    "        prev_obs = new_observation\n",
    "        score+=reward\n",
    "        if done:\n",
    "            break\n",
    "\n",
    "    env.reset()\n",
    "    scores.append(score)\n",
    "\n",
    "print(scores)\n",
    "print('Average Score:', sum(scores)/len(scores))\n",
    "print('choice 1:{}  choice 0:{}'.format(choices.count(1)/len(choices),choices.count(0)/len(choices)))\n"
   ]
  },
  {
   "cell_type": "code",
   "execution_count": 25,
   "metadata": {},
   "outputs": [],
   "source": [
    "env.close()"
   ]
  },
  {
   "cell_type": "code",
   "execution_count": 26,
   "metadata": {},
   "outputs": [
    {
     "data": {
      "text/plain": [
       "[<matplotlib.lines.Line2D at 0x7f11b697c860>]"
      ]
     },
     "execution_count": 26,
     "metadata": {},
     "output_type": "execute_result"
    },
    {
     "data": {
      "image/png": "[encoded data removed]",
      "text/plain": [
       "<Figure size 432x288 with 1 Axes>"
      ]
     },
     "metadata": {
      "needs_background": "light"
     },
     "output_type": "display_data"
    },
    {
     "data": {
      "image/png": "[encoded data removed]",
      "text/plain": [
       "<Figure size 432x288 with 1 Axes>"
      ]
     },
     "metadata": {
      "needs_background": "light"
     },
     "output_type": "display_data"
    }
   ],
   "source": [
    "\n",
    "plt.figure(1)\n",
    "plt.plot(history.history['acc'])\n",
    "plt.plot(history.history['val_acc'], color = 'b')\n",
    "\n",
    "plt.figure(2)\n",
    "plt.plot(history.history['loss'], color = 'r')\n",
    "plt.plot(history.history['val_loss'], color = 'b')"
   ]
  },
  {
   "cell_type": "markdown",
   "metadata": {},
   "source": [
    "## retry"
   ]
  },
  {
   "cell_type": "code",
   "execution_count": 38,
   "metadata": {},
   "outputs": [],
   "source": [
    "def train_model2(training_data):\n",
    "    X = np.array([i[0] for i in training_data]).reshape(-1, len(training_data[0][0]))\n",
    "    y = np.array([i[1] for i in training_data]).reshape(-1, len(training_data[0][1]))\n",
    "    model = build_model(input_size=len(X[0]), output_size=len(y[0]))\n",
    "    \n",
    "    model.fit(X, y, epochs=10)\n",
    "    return model"
   ]
  },
  {
   "cell_type": "code",
   "execution_count": 43,
   "metadata": {},
   "outputs": [
    {
     "name": "stdout",
     "output_type": "stream",
     "text": [
      "Epoch 1/10\n",
      "10943/10943 [==============================] - 1s 79us/step - loss: 0.2448 - acc: 0.6080\n",
      "Epoch 2/10\n",
      "10943/10943 [==============================] - 0s 38us/step - loss: 0.2340 - acc: 0.6092\n",
      "Epoch 3/10\n",
      "10943/10943 [==============================] - 0s 42us/step - loss: 0.2336 - acc: 0.6122\n",
      "Epoch 4/10\n",
      "10943/10943 [==============================] - 0s 39us/step - loss: 0.2328 - acc: 0.6135\n",
      "Epoch 5/10\n",
      "10943/10943 [==============================] - 0s 38us/step - loss: 0.2328 - acc: 0.6121\n",
      "Epoch 6/10\n",
      "10943/10943 [==============================] - 1s 47us/step - loss: 0.2323 - acc: 0.6102\n",
      "Epoch 7/10\n",
      "10943/10943 [==============================] - 0s 38us/step - loss: 0.2322 - acc: 0.6113\n",
      "Epoch 8/10\n",
      "10943/10943 [==============================] - 1s 53us/step - loss: 0.2317 - acc: 0.6134\n",
      "Epoch 9/10\n",
      "10943/10943 [==============================] - 1s 46us/step - loss: 0.2318 - acc: 0.6119\n",
      "Epoch 10/10\n",
      "10943/10943 [==============================] - 0s 39us/step - loss: 0.2317 - acc: 0.6118\n"
     ]
    }
   ],
   "source": [
    "trained_model = train_model2(training_data)"
   ]
  },
  {
   "cell_type": "code",
   "execution_count": 44,
   "metadata": {},
   "outputs": [
    {
     "name": "stdout",
     "output_type": "stream",
     "text": [
      "[214.0, 309.0, 240.0, 495.0, 500.0, 276.0, 129.0, 500.0, 150.0, 277.0, 388.0, 137.0, 165.0, 145.0, 185.0, 210.0, 144.0, 390.0, 176.0, 132.0, 358.0, 142.0, 293.0, 188.0, 150.0, 150.0, 379.0, 229.0, 264.0, 152.0, 160.0, 172.0, 422.0, 182.0, 268.0, 216.0, 162.0, 168.0, 197.0, 146.0, 250.0, 206.0, 360.0, 432.0, 286.0, 158.0, 209.0, 186.0, 216.0, 346.0, 168.0, 183.0, 175.0, 183.0, 496.0, 213.0, 266.0, 141.0, 183.0, 233.0, 172.0, 245.0, 162.0, 212.0, 290.0, 248.0, 250.0, 216.0, 148.0, 214.0, 271.0, 136.0, 224.0, 212.0, 198.0, 188.0, 296.0, 166.0, 194.0, 168.0, 136.0, 254.0, 500.0, 198.0, 159.0, 346.0, 256.0, 176.0, 220.0, 188.0, 300.0, 168.0, 252.0, 153.0, 161.0, 137.0, 247.0, 146.0, 140.0, 280.0]\n",
      "Average Score: 230.77\n",
      "choice 1:0.49295835680547734  choice 0:0.5070416431945227\n"
     ]
    }
   ],
   "source": [
    "scores = []\n",
    "choices = []\n",
    "for each_game in range(100):\n",
    "    score = 0\n",
    "    prev_obs = []\n",
    "    for step_index in range(goal_steps):\n",
    "        env.render()\n",
    "        if len(prev_obs)==0:\n",
    "            action = random.randrange(0,2)\n",
    "        else:\n",
    "            action = np.argmax(trained_model.predict(prev_obs.reshape(-1, len(prev_obs)))[0])\n",
    "        \n",
    "        choices.append(action)\n",
    "        new_observation, reward, done, info = env.step(action)\n",
    "        prev_obs = new_observation\n",
    "        score+=reward\n",
    "        if done:\n",
    "            break\n",
    "\n",
    "    env.reset()\n",
    "    scores.append(score)\n",
    "\n",
    "print(scores)\n",
    "print('Average Score:', sum(scores)/len(scores))\n",
    "print('choice 1:{}  choice 0:{}'.format(choices.count(1)/len(choices),choices.count(0)/len(choices)))"
   ]
  },
  {
   "cell_type": "code",
   "execution_count": null,
   "metadata": {},
   "outputs": [],
   "source": []
  }
 ],
 "metadata": {
  "kernelspec": {
   "display_name": "Python 3",
   "language": "python",
   "name": "python3"
  },
  "language_info": {
   "codemirror_mode": {
    "name": "ipython",
    "version": 3
   },
   "file_extension": ".py",
   "mimetype": "text/x-python",
   "name": "python",
   "nbconvert_exporter": "python",
   "pygments_lexer": "ipython3",
   "version": "3.6.7"
  }
 },
 "nbformat": 4,
 "nbformat_minor": 2
}
